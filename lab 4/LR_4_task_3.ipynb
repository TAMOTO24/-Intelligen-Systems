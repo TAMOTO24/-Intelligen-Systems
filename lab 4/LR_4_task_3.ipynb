{
  "nbformat": 4,
  "nbformat_minor": 0,
  "metadata": {
    "colab": {
      "provenance": []
    },
    "kernelspec": {
      "name": "python3",
      "display_name": "Python 3"
    },
    "language_info": {
      "name": "python"
    }
  },
  "cells": [
    {
      "cell_type": "code",
      "execution_count": 3,
      "metadata": {
        "id": "-Wu0dK8F5oD5"
      },
      "outputs": [],
      "source": [
        "import numpy as np\n",
        "import pandas as pd\n",
        "from sklearn.model_selection import train_test_split\n",
        "from sklearn import linear_model\n",
        "from sklearn.metrics import mean_absolute_error, mean_squared_error, median_absolute_error, explained_variance_score, r2_score\n",
        "from sklearn.preprocessing import PolynomialFeatures\n",
        "\n",
        "# Завантаження даних\n",
        "data_file = \"data_multivar_regr.txt\"\n",
        "df = pd.read_csv(data_file, delimiter=\",\", header=None)\n",
        "X = df.iloc[:, :-1].values  # Всі колонки, окрім останньої\n",
        "y = df.iloc[:, -1].values   # Остання колонка\n",
        "\n",
        "# Розбиття даних на тренувальний і тестовий набори\n",
        "X_train, X_test, y_train, y_test = train_test_split(X, y, test_size=0.2, random_state=42)\n",
        "\n",
        "# Лінійна регресія\n",
        "linear_regressor = linear_model.LinearRegression()\n",
        "linear_regressor.fit(X_train, y_train)\n",
        "y_test_pred = linear_regressor.predict(X_test)"
      ]
    },
    {
      "cell_type": "code",
      "source": [
        "# Метрики якості для лінійної регресії\n",
        "print(\"Linear Regressor performance:\")\n",
        "print(\"Mean absolute error:\", mean_absolute_error(y_test, y_test_pred))\n",
        "print(\"Mean squared error:\", mean_squared_error(y_test, y_test_pred))\n",
        "print(\"Median absolute error:\", median_absolute_error(y_test, y_test_pred))\n",
        "print(\"Explained variance score:\", explained_variance_score(y_test, y_test_pred))\n",
        "print(\"R2 score:\", r2_score(y_test, y_test_pred))"
      ],
      "metadata": {
        "colab": {
          "base_uri": "https://localhost:8080/"
        },
        "id": "YLy4dJXH5y8K",
        "outputId": "cd2ed435-40d4-48c4-ced8-b74c3f032720"
      },
      "execution_count": 4,
      "outputs": [
        {
          "output_type": "stream",
          "name": "stdout",
          "text": [
            "Linear Regressor performance:\n",
            "Mean absolute error: 3.72256705807201\n",
            "Mean squared error: 20.109714263409597\n",
            "Median absolute error: 3.6177672815762865\n",
            "Explained variance score: 0.8921650359093931\n",
            "R2 score: 0.8911287522149477\n"
          ]
        }
      ]
    },
    {
      "cell_type": "code",
      "source": [
        "# Поліноміальна регресія\n",
        "polynomial = PolynomialFeatures(degree=10)\n",
        "X_train_transformed = polynomial.fit_transform(X_train)\n",
        "X_test_transformed = polynomial.transform(X_test)\n",
        "\n",
        "poly_linear_model = linear_model.LinearRegression()\n",
        "poly_linear_model.fit(X_train_transformed, y_train)\n",
        "y_test_poly_pred = poly_linear_model.predict(X_test_transformed)\n",
        "\n",
        "# Прогноз для тестової точки\n",
        "datapoint = [[7.75, 6.35, 5.56]]\n",
        "poly_datapoint = polynomial.transform(datapoint)\n",
        "print(\"\\nLinear regression prediction:\", linear_regressor.predict(datapoint))\n",
        "print(\"Polynomial regression prediction:\", poly_linear_model.predict(poly_datapoint))"
      ],
      "metadata": {
        "colab": {
          "base_uri": "https://localhost:8080/"
        },
        "id": "p3_GxkWo6hQR",
        "outputId": "a8957427-d441-4fcd-a22e-5ca049ed5201"
      },
      "execution_count": 5,
      "outputs": [
        {
          "output_type": "stream",
          "name": "stdout",
          "text": [
            "\n",
            "Linear regression prediction: [36.09966593]\n",
            "Polynomial regression prediction: [35.99728981]\n"
          ]
        }
      ]
    },
    {
      "cell_type": "code",
      "source": [
        "# Оцінка та порівняння характеристик\n",
        "print(\"\\nPolynomial Regressor performance:\")\n",
        "print(\"Mean absolute error:\", mean_absolute_error(y_test, y_test_poly_pred))\n",
        "print(\"Mean squared error:\", mean_squared_error(y_test, y_test_poly_pred))\n",
        "print(\"Median absolute error:\", median_absolute_error(y_test, y_test_poly_pred))\n",
        "print(\"Explained variance score:\", explained_variance_score(y_test, y_test_poly_pred))\n",
        "print(\"R2 score:\", r2_score(y_test, y_test_poly_pred))"
      ],
      "metadata": {
        "colab": {
          "base_uri": "https://localhost:8080/"
        },
        "id": "Drqv1-R26jTI",
        "outputId": "765f9412-9ec1-4da7-d61d-de2dba9db938"
      },
      "execution_count": 6,
      "outputs": [
        {
          "output_type": "stream",
          "name": "stdout",
          "text": [
            "\n",
            "Polynomial Regressor performance:\n",
            "Mean absolute error: 1347.3881957565345\n",
            "Mean squared error: 123911002.501913\n",
            "Median absolute error: 5.636000143151325\n",
            "Explained variance score: -665784.7847287493\n",
            "R2 score: -670836.252084989\n"
          ]
        }
      ]
    }
  ]
}