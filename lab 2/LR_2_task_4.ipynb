{
  "nbformat": 4,
  "nbformat_minor": 0,
  "metadata": {
    "colab": {
      "provenance": []
    },
    "kernelspec": {
      "name": "python3",
      "display_name": "Python 3"
    },
    "language_info": {
      "name": "python"
    }
  },
  "cells": [
    {
      "cell_type": "code",
      "source": [
        "import pandas as pd\n",
        "from sklearn.model_selection import train_test_split\n",
        "from sklearn.preprocessing import LabelEncoder, StandardScaler\n",
        "from sklearn.linear_model import LogisticRegression\n",
        "from sklearn.discriminant_analysis import LinearDiscriminantAnalysis\n",
        "from sklearn.neighbors import KNeighborsClassifier\n",
        "from sklearn.tree import DecisionTreeClassifier\n",
        "from sklearn.naive_bayes import GaussianNB\n",
        "from sklearn.svm import SVC\n",
        "from sklearn.metrics import accuracy_score, classification_report\n",
        "\n",
        "# Завантажуємо дані\n",
        "columns = ['age', 'workclass', 'fnlwgt', 'education', 'education-num', 'marital-status',\n",
        "           'occupation', 'relationship', 'race', 'sex', 'capital-gain', 'capital-loss',\n",
        "           'hours-per-week', 'native-country', 'income']\n",
        "data = pd.read_csv('income_data.txt', header=None, names=columns)\n",
        "\n",
        "# Перетворення цільової змінної 'income' на числові значення\n",
        "label_encoder = LabelEncoder()\n",
        "data['income'] = label_encoder.fit_transform(data['income'])  # <=50K -> 0, >50K -> 1"
      ],
      "metadata": {
        "id": "U7rpZTIiMMr7"
      },
      "execution_count": 17,
      "outputs": []
    },
    {
      "cell_type": "code",
      "source": [
        "categorical_columns = ['workclass', 'education', 'marital-status', 'occupation', 'relationship',\n",
        "                       'race', 'sex', 'native-country']\n",
        "data = pd.get_dummies(data, columns=categorical_columns)"
      ],
      "metadata": {
        "id": "JS-fbh5sMSRD"
      },
      "execution_count": 18,
      "outputs": []
    },
    {
      "cell_type": "code",
      "source": [
        "X = data.drop('income', axis=1)\n",
        "y = data['income']\n",
        "\n",
        "# Розбиваємо дані на навчальні та тестові набори\n",
        "X_train, X_test, y_train, y_test = train_test_split(X, y, test_size=0.3, random_state=42)\n",
        "\n",
        "# Масштабуємо дані\n",
        "scaler = StandardScaler()\n",
        "X_train_scaled = scaler.fit_transform(X_train)\n",
        "X_test_scaled = scaler.transform(X_test)"
      ],
      "metadata": {
        "id": "j11YekTZM2yT"
      },
      "execution_count": 19,
      "outputs": []
    },
    {
      "cell_type": "code",
      "source": [
        "models = {\n",
        "    'Logistic Regression (LR)': LogisticRegression(),\n",
        "    'Linear Discriminant Analysis (LDA)': LinearDiscriminantAnalysis(),\n",
        "    'K-Nearest Neighbors (KNN)': KNeighborsClassifier(),\n",
        "    'Classification and Regression Tree (CART)': DecisionTreeClassifier(),\n",
        "    'Naive Bayes (NB)': GaussianNB(),\n",
        "    'Support Vector Machine (SVM)': SVC()\n",
        "}\n",
        "\n",
        "# Порівняння моделей\n",
        "for name, model in models.items():\n",
        "    # Навчання моделі\n",
        "    model.fit(X_train_scaled, y_train)\n",
        "\n",
        "    # Прогнозування\n",
        "    y_pred = model.predict(X_test_scaled)\n",
        "\n",
        "    # Оцінка точності\n",
        "    accuracy = accuracy_score(y_test, y_pred)\n",
        "    print(f\"{name} - Accuracy: {accuracy:.4f}\")\n",
        "    print(f\"Classification Report for {name}:\\n{classification_report(y_test, y_pred)}\\n\")"
      ],
      "metadata": {
        "colab": {
          "base_uri": "https://localhost:8080/"
        },
        "id": "QvXX7fvNM5mj",
        "outputId": "2e573403-c72e-4f57-816b-4770b1ae2e45"
      },
      "execution_count": 20,
      "outputs": [
        {
          "output_type": "stream",
          "name": "stdout",
          "text": [
            "Logistic Regression (LR) - Accuracy: 0.8549\n",
            "Classification Report for Logistic Regression (LR):\n",
            "              precision    recall  f1-score   support\n",
            "\n",
            "           0       0.88      0.93      0.91      7455\n",
            "           1       0.74      0.61      0.66      2314\n",
            "\n",
            "    accuracy                           0.85      9769\n",
            "   macro avg       0.81      0.77      0.79      9769\n",
            "weighted avg       0.85      0.85      0.85      9769\n",
            "\n",
            "\n",
            "Linear Discriminant Analysis (LDA) - Accuracy: 0.8432\n",
            "Classification Report for Linear Discriminant Analysis (LDA):\n",
            "              precision    recall  f1-score   support\n",
            "\n",
            "           0       0.87      0.93      0.90      7455\n",
            "           1       0.71      0.57      0.63      2314\n",
            "\n",
            "    accuracy                           0.84      9769\n",
            "   macro avg       0.79      0.75      0.77      9769\n",
            "weighted avg       0.84      0.84      0.84      9769\n",
            "\n",
            "\n",
            "K-Nearest Neighbors (KNN) - Accuracy: 0.8211\n",
            "Classification Report for K-Nearest Neighbors (KNN):\n",
            "              precision    recall  f1-score   support\n",
            "\n",
            "           0       0.87      0.90      0.88      7455\n",
            "           1       0.64      0.56      0.60      2314\n",
            "\n",
            "    accuracy                           0.82      9769\n",
            "   macro avg       0.75      0.73      0.74      9769\n",
            "weighted avg       0.81      0.82      0.82      9769\n",
            "\n",
            "\n",
            "Classification and Regression Tree (CART) - Accuracy: 0.8097\n",
            "Classification Report for Classification and Regression Tree (CART):\n",
            "              precision    recall  f1-score   support\n",
            "\n",
            "           0       0.88      0.87      0.87      7455\n",
            "           1       0.59      0.63      0.61      2314\n",
            "\n",
            "    accuracy                           0.81      9769\n",
            "   macro avg       0.74      0.75      0.74      9769\n",
            "weighted avg       0.81      0.81      0.81      9769\n",
            "\n",
            "\n",
            "Naive Bayes (NB) - Accuracy: 0.4123\n",
            "Classification Report for Naive Bayes (NB):\n",
            "              precision    recall  f1-score   support\n",
            "\n",
            "           0       0.97      0.24      0.38      7455\n",
            "           1       0.28      0.98      0.44      2314\n",
            "\n",
            "    accuracy                           0.41      9769\n",
            "   macro avg       0.63      0.61      0.41      9769\n",
            "weighted avg       0.81      0.41      0.39      9769\n",
            "\n",
            "\n",
            "Support Vector Machine (SVM) - Accuracy: 0.8510\n",
            "Classification Report for Support Vector Machine (SVM):\n",
            "              precision    recall  f1-score   support\n",
            "\n",
            "           0       0.87      0.94      0.91      7455\n",
            "           1       0.75      0.56      0.64      2314\n",
            "\n",
            "    accuracy                           0.85      9769\n",
            "   macro avg       0.81      0.75      0.77      9769\n",
            "weighted avg       0.84      0.85      0.84      9769\n",
            "\n",
            "\n"
          ]
        }
      ]
    }
  ]
}