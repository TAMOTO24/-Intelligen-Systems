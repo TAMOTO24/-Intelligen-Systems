{
  "nbformat": 4,
  "nbformat_minor": 0,
  "metadata": {
    "colab": {
      "provenance": []
    },
    "kernelspec": {
      "name": "python3",
      "display_name": "Python 3"
    },
    "language_info": {
      "name": "python"
    }
  },
  "cells": [
    {
      "cell_type": "code",
      "execution_count": 14,
      "metadata": {
        "id": "cQoDNI1ZdQIR"
      },
      "outputs": [],
      "source": [
        "import numpy as np\n",
        "import matplotlib.pyplot as plt\n",
        "from sklearn import preprocessing\n",
        "from sklearn.svm import SVC\n",
        "from sklearn.metrics import accuracy_score, precision_score, recall_score, f1_score\n",
        "from sklearn.multiclass import OneVsOneClassifier\n",
        "from sklearn.model_selection import train_test_split\n",
        "from sklearn.model_selection import cross_val_score\n",
        "\n",
        "# Вхідний файл, який містить дані\n",
        "input_file = 'income_data.txt'"
      ]
    },
    {
      "cell_type": "code",
      "source": [
        "# Читання даних\n",
        "X = []\n",
        "y = []\n",
        "count_class1 = 0\n",
        "count_class2 = 0\n",
        "max_datapoints = 25000\n"
      ],
      "metadata": {
        "id": "O9iyo7WjkRiI"
      },
      "execution_count": 3,
      "outputs": []
    },
    {
      "cell_type": "code",
      "source": [
        "with open(input_file, 'r') as f:\n",
        "  for line in f:\n",
        "    if count_class1 >= max_datapoints and count_class2 >= max_datapoints:\n",
        "      break\n",
        "    if '?' in line:\n",
        "      continue\n",
        "\n",
        "    data = line.strip().split(',')\n",
        "\n",
        "    if data[-1].strip() == '<=50K' and count_class1 < max_datapoints:\n",
        "      X.append(data)\n",
        "      count_class1 += 1\n",
        "    elif data[-1].strip() == '>50K' and count_class2 < max_datapoints:\n",
        "      X.append(data)\n",
        "      count_class2 += 1"
      ],
      "metadata": {
        "id": "cSfLu6L5kWi-"
      },
      "execution_count": 6,
      "outputs": []
    },
    {
      "cell_type": "code",
      "source": [
        "# Перетворення на масив numpy\n",
        "X = np.array(X)\n",
        "\n",
        "# Перетворення рядкових даних на числові\n",
        "label_encoder = []\n",
        "X_encoded = np.empty(X.shape)\n",
        "\n",
        "for i,item in enumerate(X[1]):\n",
        " if item.isdigit():\n",
        "  X_encoded[:, i] = X[:, i]\n",
        " else:\n",
        "  label_encoder.append(preprocessing.LabelEncoder())\n",
        "  X_encoded[:, i] = label_encoder[-1].fit_transform(X[:,i])\n",
        "X = X_encoded[:, :-1].astype(int)\n",
        "y = X_encoded[:, -1].astype(int)"
      ],
      "metadata": {
        "id": "fi9owh0nleC4"
      },
      "execution_count": 7,
      "outputs": []
    },
    {
      "cell_type": "code",
      "source": [
        "X_train, X_test, y_train, y_test = train_test_split(X, y, test_size=0.2, random_state=5)\n",
        "results = {}"
      ],
      "metadata": {
        "id": "idctT7sQt05d"
      },
      "execution_count": 8,
      "outputs": []
    },
    {
      "cell_type": "code",
      "source": [
        "# Поліноміальне ядро\n",
        "poly_classifier = SVC(kernel='poly', degree=3, random_state=0)\n",
        "poly_classifier.fit(X_train, y_train)\n",
        "y_pred_poly = poly_classifier.predict(X_test)"
      ],
      "metadata": {
        "id": "iaxfhRL6ujVt"
      },
      "execution_count": 11,
      "outputs": []
    },
    {
      "cell_type": "code",
      "source": [
        "results['Polynomial Kernel'] = {\n",
        "    'Accuracy': accuracy_score(y_test, y_pred_poly),\n",
        "    'Precision': precision_score(y_test, y_pred_poly, average='weighted'),\n",
        "    'Recall': recall_score(y_test, y_pred_poly, average='weighted'),\n",
        "    'F1-score': f1_score(y_test, y_pred_poly, average='weighted')\n",
        "}"
      ],
      "metadata": {
        "colab": {
          "base_uri": "https://localhost:8080/"
        },
        "id": "DxA7Go9suo7k",
        "outputId": "dd71531a-458c-4976-e809-2a699ce59242"
      },
      "execution_count": 15,
      "outputs": [
        {
          "output_type": "stream",
          "name": "stderr",
          "text": [
            "/usr/local/lib/python3.10/dist-packages/sklearn/metrics/_classification.py:1531: UndefinedMetricWarning: Precision is ill-defined and being set to 0.0 in labels with no predicted samples. Use `zero_division` parameter to control this behavior.\n",
            "  _warn_prf(average, modifier, f\"{metric.capitalize()} is\", len(result))\n"
          ]
        }
      ]
    },
    {
      "cell_type": "code",
      "source": [
        "rbf_classifier = SVC(kernel='rbf', random_state=0)\n",
        "rbf_classifier.fit(X_train, y_train)\n",
        "y_pred_rbf = rbf_classifier.predict(X_test)"
      ],
      "metadata": {
        "id": "Z4tyP1kmXUKc"
      },
      "execution_count": 16,
      "outputs": []
    },
    {
      "cell_type": "code",
      "source": [
        "results['RBF Kernel'] = {\n",
        "    'Accuracy': accuracy_score(y_test, y_pred_rbf),\n",
        "    'Precision': precision_score(y_test, y_pred_rbf, average='weighted'),\n",
        "    'Recall': recall_score(y_test, y_pred_rbf, average='weighted'),\n",
        "    'F1-score': f1_score(y_test, y_pred_rbf, average='weighted')\n",
        "}"
      ],
      "metadata": {
        "colab": {
          "base_uri": "https://localhost:8080/"
        },
        "id": "r8t2vQDOXisb",
        "outputId": "fbf0b419-1d81-4703-c46b-6e1727c5694e"
      },
      "execution_count": 17,
      "outputs": [
        {
          "output_type": "stream",
          "name": "stderr",
          "text": [
            "/usr/local/lib/python3.10/dist-packages/sklearn/metrics/_classification.py:1531: UndefinedMetricWarning: Precision is ill-defined and being set to 0.0 in labels with no predicted samples. Use `zero_division` parameter to control this behavior.\n",
            "  _warn_prf(average, modifier, f\"{metric.capitalize()} is\", len(result))\n"
          ]
        }
      ]
    },
    {
      "cell_type": "code",
      "source": [
        "sigmoid_classifier = SVC(kernel='sigmoid', random_state=0)\n",
        "sigmoid_classifier.fit(X_train, y_train)\n",
        "y_pred_sigmoid = sigmoid_classifier.predict(X_test)"
      ],
      "metadata": {
        "id": "6VFKTBEYXkj0"
      },
      "execution_count": 18,
      "outputs": []
    },
    {
      "cell_type": "code",
      "source": [
        "results['Sigmoid Kernel'] = {\n",
        "    'Accuracy': accuracy_score(y_test, y_pred_sigmoid),\n",
        "    'Precision': precision_score(y_test, y_pred_sigmoid, average='weighted'),\n",
        "    'Recall': recall_score(y_test, y_pred_sigmoid, average='weighted'),\n",
        "    'F1-score': f1_score(y_test, y_pred_sigmoid, average='weighted')\n",
        "}"
      ],
      "metadata": {
        "id": "Xza6xPXIXmiE"
      },
      "execution_count": 19,
      "outputs": []
    },
    {
      "cell_type": "code",
      "source": [
        "for kernel, metrics in results.items():\n",
        "    print(f\"Results for {kernel}:\")\n",
        "    print(f\"Accuracy: {metrics['Accuracy']:.2f}\")\n",
        "    print(f\"Precision: {metrics['Precision']:.2f}\")\n",
        "    print(f\"Recall: {metrics['Recall']:.2f}\")\n",
        "    print(f\"F1-score: {metrics['F1-score']:.2f}\\n\")"
      ],
      "metadata": {
        "colab": {
          "base_uri": "https://localhost:8080/"
        },
        "id": "a_W9kYyjYc51",
        "outputId": "368a9f44-5c6f-48dd-e128-19efafd6473f"
      },
      "execution_count": 20,
      "outputs": [
        {
          "output_type": "stream",
          "name": "stdout",
          "text": [
            "Results for Polynomial Kernel:\n",
            "Accuracy: 0.74\n",
            "Precision: 0.55\n",
            "Recall: 0.74\n",
            "F1-score: 0.64\n",
            "\n",
            "Results for RBF Kernel:\n",
            "Accuracy: 0.74\n",
            "Precision: 0.55\n",
            "Recall: 0.74\n",
            "F1-score: 0.64\n",
            "\n",
            "Results for Sigmoid Kernel:\n",
            "Accuracy: 0.61\n",
            "Precision: 0.61\n",
            "Recall: 0.61\n",
            "F1-score: 0.61\n",
            "\n"
          ]
        }
      ]
    }
  ]
}