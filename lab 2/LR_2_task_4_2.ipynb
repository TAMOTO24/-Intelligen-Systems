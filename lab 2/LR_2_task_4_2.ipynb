{
  "nbformat": 4,
  "nbformat_minor": 0,
  "metadata": {
    "colab": {
      "provenance": []
    },
    "kernelspec": {
      "name": "python3",
      "display_name": "Python 3"
    },
    "language_info": {
      "name": "python"
    }
  },
  "cells": [
    {
      "cell_type": "code",
      "source": [
        "import numpy as np\n",
        "from sklearn.datasets import load_iris\n",
        "from sklearn.linear_model import RidgeClassifier\n",
        "from sklearn.model_selection import train_test_split\n",
        "from sklearn import metrics\n",
        "import seaborn as sns\n",
        "import matplotlib.pyplot as plt\n",
        "from io import BytesIO\n",
        "\n",
        "# Завантажуємо набір даних Iris\n",
        "iris = load_iris()\n",
        "X, y = iris.data, iris.target\n",
        "\n",
        "# Розбиваємо дані на навчальні та тестові набори\n",
        "X_train, X_test, y_train, y_test = train_test_split(X, y, test_size=0.3, random_state=0)\n",
        "\n",
        "# Ініціалізуємо та тренуємо RidgeClassifier\n",
        "clf = RidgeClassifier(tol=1e-2, solver=\"sag\")\n",
        "clf.fit(X_train, y_train)\n",
        "\n",
        "# Прогнозуємо тестові дані\n",
        "y_pred = clf.predict(X_test)"
      ],
      "metadata": {
        "id": "kx6siDyZNtnb"
      },
      "execution_count": 21,
      "outputs": []
    },
    {
      "cell_type": "code",
      "source": [
        "print('Accuracy:', np.round(metrics.accuracy_score(y_test, y_pred), 4))\n",
        "print('Precision:', np.round(metrics.precision_score(y_test, y_pred, average='weighted'), 4))\n",
        "print('Recall:', np.round(metrics.recall_score(y_test, y_pred, average='weighted'), 4))\n",
        "print('F1 Score:', np.round(metrics.f1_score(y_test, y_pred, average='weighted'), 4))\n",
        "print('Cohen Kappa Score:', np.round(metrics.cohen_kappa_score(y_test, y_pred), 4))\n",
        "print('Matthews Corrcoef:', np.round(metrics.matthews_corrcoef(y_test, y_pred), 4))\n",
        "print('\\t\\tClassification Report:\\n', metrics.classification_report(y_test, y_pred))"
      ],
      "metadata": {
        "colab": {
          "base_uri": "https://localhost:8080/"
        },
        "id": "Rhn6AvrwNvHz",
        "outputId": "4182deac-b425-420f-8c8d-7904bdb31227"
      },
      "execution_count": 22,
      "outputs": [
        {
          "output_type": "stream",
          "name": "stdout",
          "text": [
            "Accuracy: 0.7556\n",
            "Precision: 0.8333\n",
            "Recall: 0.7556\n",
            "F1 Score: 0.7503\n",
            "Cohen Kappa Score: 0.6431\n",
            "Matthews Corrcoef: 0.6831\n",
            "\t\tClassification Report:\n",
            "               precision    recall  f1-score   support\n",
            "\n",
            "           0       1.00      1.00      1.00        16\n",
            "           1       0.89      0.44      0.59        18\n",
            "           2       0.50      0.91      0.65        11\n",
            "\n",
            "    accuracy                           0.76        45\n",
            "   macro avg       0.80      0.78      0.75        45\n",
            "weighted avg       0.83      0.76      0.75        45\n",
            "\n"
          ]
        }
      ]
    },
    {
      "cell_type": "code",
      "source": [
        "mat = metrics.confusion_matrix(y_test, y_pred)\n",
        "sns.heatmap(mat.T, square=True, annot=True, fmt='d', cbar=False)\n",
        "plt.xlabel('True Label')\n",
        "plt.ylabel('Predicted Label')\n",
        "\n",
        "# Збереження графіка як JPG\n",
        "plt.savefig(\"Confusion.jpg\")\n",
        "\n",
        "# Збереження як SVG у буфер\n",
        "f = BytesIO()\n",
        "plt.savefig(f, format=\"svg\")\n",
        "plt.show()"
      ],
      "metadata": {
        "colab": {
          "base_uri": "https://localhost:8080/",
          "height": 449
        },
        "id": "Qw2sRIMnNwXr",
        "outputId": "1c83a582-7151-4aa9-b6cf-d9f8e9714940"
      },
      "execution_count": 23,
      "outputs": [
        {
          "output_type": "display_data",
          "data": {
            "text/plain": [
              "<Figure size 640x480 with 1 Axes>"
            ],
            "image/png": "[encoded data removed]"
          },
          "metadata": {}
        }
      ]
    }
  ]
}